{
  "nbformat": 4,
  "nbformat_minor": 0,
  "metadata": {
    "colab": {
      "provenance": [],
      "include_colab_link": true
    },
    "kernelspec": {
      "name": "python3",
      "display_name": "Python 3"
    },
    "language_info": {
      "name": "python"
    }
  },
  "cells": [
    {
      "cell_type": "markdown",
      "metadata": {
        "id": "view-in-github",
        "colab_type": "text"
      },
      "source": [
        "<a href=\"https://colab.research.google.com/github/pandaiscodingcpu/CodeAI_EDA-and-ML-task/blob/main/Copy_of_CodeAi_TechAi_Task1.ipynb\" target=\"_parent\"><img src=\"https://colab.research.google.com/assets/colab-badge.svg\" alt=\"Open In Colab\"/></a>"
      ]
    },
    {
      "cell_type": "markdown",
      "source": [
        "# ***FOR DOING THE TASK MAKE THE COPY OF THIS COLLAB FILE IN YOUR DRIVE***"
      ],
      "metadata": {
        "id": "XnP1PxmLWjlC"
      }
    },
    {
      "cell_type": "markdown",
      "source": [
        "### 1. Python Basics & Control Structures\n",
        "\n",
        "*Task*:\n",
        "\n",
        "* Write a Python program that:\n",
        "\n",
        "  * Takes a list of strings (e.g., [\"apple\", \"banana\", \"grape\", \"kiwi\", \"orange\"]).\n",
        "  * Filters out fruits with more than 5 characters using a for loop and if statement.\n",
        "  * For each fruit, print its length.\n",
        "\n",
        "*Example Input*:\n",
        "\n",
        "python\n",
        "fruits = [\"apple\", \"banana\", \"grape\", \"kiwi\", \"orange\"]"
      ],
      "metadata": {
        "id": "RBNeAaOLxbe5"
      }
    },
    {
      "cell_type": "code",
      "execution_count": null,
      "metadata": {
        "id": "NcI_p7F0vFhz",
        "colab": {
          "base_uri": "https://localhost:8080/"
        },
        "outputId": "0e71309b-fd34-4222-edab-51b202b83cc2"
      },
      "outputs": [
        {
          "output_type": "stream",
          "name": "stdout",
          "text": [
            "You can enter only 10, for exiting enter 'q' or 'Q'\n",
            "Enter fruit 1 name: apple\n",
            "Enter fruit 2 name: banana\n",
            "Enter fruit 3 name: grapes\n",
            "Enter fruit 4 name: pineapple\n",
            "Enter fruit 5 name: mango\n",
            "Enter fruit 6 name: leechi\n",
            "Enter fruit 7 name: guav\n",
            "Enter fruit 8 name: q\n",
            "\n",
            "\n",
            "['apple', 'banana', 'grapes', 'pineapple', 'mango', 'leechi', 'guav']\n",
            "The Fruit apple has 5 characters.\n",
            "The Fruit banana has 6 characters.\n",
            "The Fruit grapes has 6 characters.\n",
            "The Fruit pineapple has 9 characters.\n",
            "The Fruit mango has 5 characters.\n",
            "The Fruit leechi has 6 characters.\n"
          ]
        }
      ],
      "source": [
        "fruit = []\n",
        "total_fruits = 10\n",
        "count = 1\n",
        "print(\"You can enter only 10, for exiting enter 'q' or 'Q'\")\n",
        "while True:\n",
        "  currentFruit = str(input(f\"Enter fruit {count}: \"))\n",
        "  if currentFruit.lower() != 'q':\n",
        "    fruit.append(currentFruit)\n",
        "  else:\n",
        "    print(\"\\n\")\n",
        "    print(fruit)\n",
        "    break\n",
        "  count += 1\n",
        "  if count > 10:\n",
        "    print(\"10 fruits entered....NO more spaces left\")\n",
        "    break\n",
        "\n",
        "for f in fruit:\n",
        "  if len(f) >= 5:\n",
        "    print(f\"The Fruit {f} has {len(f)} characters.\")\n",
        "  else:\n",
        "    continue"
      ]
    },
    {
      "cell_type": "markdown",
      "source": [
        "\n",
        "*Expected Output*:\n",
        "\n",
        "\n",
        "The fruit apple has 5 characters.\n",
        "\n",
        "The fruit banana has 6 characters.\n",
        "\n",
        "The fruit orange has 6 characters.\n"
      ],
      "metadata": {
        "id": "sQeiBzi9xjIl"
      }
    },
    {
      "cell_type": "markdown",
      "source": [
        "### 2. Functions & Lambda\n",
        "\n",
        "*Task*:\n",
        "\n",
        "* Write a function that takes a list of integers and a threshold value. Use a **lambda* function inside filter() to return a list of numbers greater than the threshold.\n",
        "\n",
        "\n",
        "  # Test the function with a list [1, 5, 10, 3, 8] and threshold 5\n",
        "\n",
        "\n",
        "\n",
        "\n"
      ],
      "metadata": {
        "id": "k12WGkNoyAgY"
      }
    },
    {
      "cell_type": "code",
      "source": [
        "def TheThreshold(numbers,threshold):\n",
        "  num = list(filter(lambda x: x > threshold,numbers))\n",
        "  return num\n",
        "\n",
        "print(TheThreshold([10,52,60,7,100],50))"
      ],
      "metadata": {
        "id": "xSLokk2iy1OQ",
        "colab": {
          "base_uri": "https://localhost:8080/"
        },
        "outputId": "eaa7a357-528f-4a77-a20c-6cf10a8870b2"
      },
      "execution_count": null,
      "outputs": [
        {
          "output_type": "stream",
          "name": "stdout",
          "text": [
            "[52, 60, 100]\n"
          ]
        }
      ]
    },
    {
      "cell_type": "markdown",
      "source": [
        "### 3. Object-Oriented Programming (OOP)\n",
        "\n",
        "*Task*:\n",
        "\n",
        "* Implement a BankAccount class with methods for depositing, withdrawing, transferring, and checking balance.\n",
        "* Implement *Polymorphism* by overriding the __str__ method to provide a custom string representation of the account.\n",
        "\n",
        "\n",
        "# Example\n",
        "account_a = BankAccount(\"A123\", \"Alice\", 1000)\n",
        "\n",
        "account_b = BankAccount(\"B456\", \"Bob\", 500)\n",
        "\n",
        "account_a.deposit(200)\n",
        "\n",
        "account_a.transfer(300, account_b)\n"
      ],
      "metadata": {
        "id": "qFz4IBidxuK8"
      }
    },
    {
      "cell_type": "code",
      "source": [
        "class BankAccount:\n",
        "  def __init__(self,id,name,amount):\n",
        "    self.id = id\n",
        "    self.name = name\n",
        "    self.amount = amount\n",
        "  def deposit(self,amt_deposit):\n",
        "    self.amount = self.amount + amt_deposit\n",
        "  # function for withdrawing the amount\n",
        "  def withdrawing(self,amt_withdraw):\n",
        "    if amt_withdraw > self.amount:\n",
        "      print(\"Sorry insufficient balance\")\n",
        "    else:\n",
        "      self.amount = self.amount - amt_withdraw\n",
        "  def transfer(self, amt_transfer, other_account):\n",
        "    if amt_transfer > self.amount:\n",
        "      print(\"Sorry insufficient balance\")\n",
        "    else:\n",
        "      self.amount -= amt_transfer\n",
        "      other_account.amount += amt_transfer\n",
        "      print(f\"Amount {amt_transfer} transferred to {other_account.name}\")\n",
        "  def showBalance(self):\n",
        "    print(\"Current balance: \",self.amount)\n",
        "  def __str__(self):\n",
        "      return f\"Account[{self.id}] - {self.name}, Balance: {self.amount}\"\n",
        "\n",
        "\n",
        "account_a = BankAccount(\"A123\", \"Alice\", 10)\n",
        "account_b = BankAccount(\"B456\", \"Bob\", 500)\n",
        "print(account_a)\n",
        "print(account_b)\n",
        "account_a.deposit(200)\n",
        "account_a.transfer(300, account_b)\n",
        "print(account_a)\n",
        "print(account_b)\n",
        "\n"
      ],
      "metadata": {
        "id": "nkl25hP8zWJQ",
        "colab": {
          "base_uri": "https://localhost:8080/"
        },
        "outputId": "5a6c19ed-e359-4fe4-9e67-64362c36615b"
      },
      "execution_count": null,
      "outputs": [
        {
          "output_type": "stream",
          "name": "stdout",
          "text": [
            "Account[A123] - Alice, Balance: 10\n",
            "Account[B456] - Bob, Balance: 500\n",
            "Sorry insufficient balance\n",
            "Account[A123] - Alice, Balance: 210\n",
            "Account[B456] - Bob, Balance: 500\n"
          ]
        }
      ]
    },
    {
      "cell_type": "markdown",
      "source": [
        "### 4. Exception Handling\n",
        "\n",
        "*Task*:\n",
        "\n",
        "* Write a divide_numbers(a, b) function with exception handling:\n",
        "\n",
        "  * Handle division by zero and invalid input (non-numeric values).\n",
        "\n",
        "\n",
        "# Test the function\n",
        "print(divide_numbers(10, 2))   # Valid input\n",
        "\n",
        "print(divide_numbers(10, 0))   # Division by zero\n",
        "\n",
        "print(divide_numbers(\"ten\", 2))  # Invalid input"
      ],
      "metadata": {
        "id": "R9op0Bt0xttt"
      }
    },
    {
      "cell_type": "code",
      "source": [
        "def divide_numbers(a,b):\n",
        "  try:\n",
        "    return a / b\n",
        "  except ZeroDivisionError as e:\n",
        "    return f\"ERROR: {e}\"\n",
        "  except TypeError as t:\n",
        "    return f\"ERROR: {t}\"\n",
        "print(divide_numbers(10,0))\n",
        "print(divide_numbers(10,2))\n",
        "print(divide_numbers(\"ten\",2))"
      ],
      "metadata": {
        "id": "DEZfXk4V0A8_",
        "colab": {
          "base_uri": "https://localhost:8080/"
        },
        "outputId": "1281f0c7-ceef-4907-c0d2-3158a7f4ff74"
      },
      "execution_count": null,
      "outputs": [
        {
          "output_type": "stream",
          "name": "stdout",
          "text": [
            "ERROR: division by zero\n",
            "5.0\n",
            "ERROR: unsupported operand type(s) for /: 'str' and 'int'\n"
          ]
        }
      ]
    },
    {
      "cell_type": "markdown",
      "source": [
        "*Example Expected Output*:\n",
        "\n",
        "\n",
        "5.0\n",
        "\n",
        "Cannot divide by zero\n",
        "\n",
        "Invalid input, please enter numbers"
      ],
      "metadata": {
        "id": "UAfaux4e0LsB"
      }
    },
    {
      "cell_type": "markdown",
      "source": [
        "### 5. Python Modules & File Handling\n",
        "\n",
        "*Task*:\n",
        "\n",
        "* Write a Python program to:\n",
        "\n",
        "  * Create a text file \"students.txt\" with student names and marks.\n",
        "  * Read the file and print names of students with marks above 80.\n",
        "\n",
        "\n",
        "\n",
        "\n"
      ],
      "metadata": {
        "id": "_zo-t7xZ0ayU"
      }
    },
    {
      "cell_type": "code",
      "source": [
        "with open('students.txt','w') as f:\n",
        "  f.write(\"Alice\\t85\\nBob\\t85\\nAda\\t78\\nDavid\\t90\")\n",
        "with open('students.txt','r') as f:\n",
        "  for l in f:\n",
        "    name,marks = l.split()\n",
        "    if int(marks) > 80:\n",
        "      print(name)"
      ],
      "metadata": {
        "id": "kp3PLXuv0_cU",
        "colab": {
          "base_uri": "https://localhost:8080/"
        },
        "outputId": "3f40c8e6-a958-4838-92be-9bfb2974719e"
      },
      "execution_count": null,
      "outputs": [
        {
          "output_type": "stream",
          "name": "stdout",
          "text": [
            "Alice\n",
            "Bob\n",
            "David\n"
          ]
        }
      ]
    },
    {
      "cell_type": "markdown",
      "source": [
        "\n",
        "*Expected Output*:\n",
        "\n",
        "\n",
        "Alice\n",
        "\n",
        "Bob\n",
        "\n",
        "David\n"
      ],
      "metadata": {
        "id": "BGTgVTJZ0_7b"
      }
    },
    {
      "cell_type": "markdown",
      "source": [
        "### 6. Regular Expressions\n",
        "\n",
        "*Task*:\n",
        "\n",
        "* Write a Python function extract_phone_numbers(text) that extracts all phone numbers from a given text. The phone numbers should be in the format (xxx) xxx-xxxx.\n",
        "\n",
        "\n",
        "sample_text = (\n",
        "    \"For any support regarding our Bangalore office, call us at +91-9876543210 between 9 AM to 6 PM. \"\n",
        "    \"If you are located in Mumbai, you can also reach our helpdesk at 9123456789 for urgent assistance. \"\n",
        "    \"Additionally, our Delhi branch can be contacted at +91-9988776655 during weekdays.\"\n",
        ")\n",
        "\n",
        "\n",
        "\n",
        "\n",
        "*Expected Output*:\n",
        "\n",
        "\n",
        "['+91-9876543210', '+91-9988776655']\n"
      ],
      "metadata": {
        "id": "buuDAsX_2ZEg"
      }
    },
    {
      "cell_type": "code",
      "source": [
        "import re\n",
        "sample_text = ( \"For any support regarding our Bangalore office, call us at +91-9876543210 between 9 AM to 6 PM. \"\n",
        "               \"If you are located in Mumbai, you can also reach our helpdesk at 9123456789 for urgent assistance. \"\n",
        "                \"Additionally, our Delhi branch can be contacted at +91-9988776655 during weekdays.\" )\n",
        "phone_numbers = re.findall(r\"\\+\\d+\\-\\d+\",sample_text)\n",
        "print(phone_numbers)"
      ],
      "metadata": {
        "id": "Nx0oXsT92Ytu",
        "colab": {
          "base_uri": "https://localhost:8080/"
        },
        "outputId": "f60b4ea2-49e5-4b3c-9056-a843e0eedb96"
      },
      "execution_count": null,
      "outputs": [
        {
          "output_type": "stream",
          "name": "stdout",
          "text": [
            "['+91-9876543210', '+91-9988776655']\n"
          ]
        }
      ]
    },
    {
      "cell_type": "markdown",
      "source": [
        "\n",
        "*Expected Output*:\n",
        "\n",
        "\n",
        "['+91-9876543210', '+91-9988776655']"
      ],
      "metadata": {
        "id": "6uPEN50JQ4IP"
      }
    }
  ]
}